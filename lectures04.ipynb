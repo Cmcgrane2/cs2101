{
 "cells": [
  {
   "cell_type": "markdown",
   "metadata": {},
   "source": [
    "### CS2101 - Programming for Science and Finance\n",
    "Prof. Götz Pfeiffer<br />\n",
    "School of Mathematical and Statistical Sciences<br />\n",
    "University of Galway\n",
    "\n",
    "***"
   ]
  },
  {
   "cell_type": "markdown",
   "metadata": {},
   "source": [
    "# Week 4: Inheritance, Matrices"
   ]
  },
  {
   "cell_type": "markdown",
   "metadata": {},
   "source": [
    "## Inheritance"
   ]
  },
  {
   "cell_type": "code",
   "execution_count": null,
   "metadata": {},
   "outputs": [],
   "source": [
    "class Person:\n",
    "    def __init__(self, first, last):\n",
    "        self.firstname = first\n",
    "        self.lastname = last\n",
    "    def __repr__(self):\n",
    "        return f\"{self.firstname} {self.lastname}\"\n",
    "    def chat(self):\n",
    "        print(f\"Hi, I'm {self}. How are you getting on?\")"
   ]
  },
  {
   "cell_type": "code",
   "execution_count": null,
   "metadata": {},
   "outputs": [],
   "source": [
    "john = Person(\"John\", \"Kelly\")\n",
    "john"
   ]
  },
  {
   "cell_type": "code",
   "execution_count": null,
   "metadata": {},
   "outputs": [],
   "source": [
    "john.chat()"
   ]
  },
  {
   "cell_type": "markdown",
   "metadata": {},
   "source": [
    "* A `Student` is like a `Person`, except that it **has** a student id, and that it **use** that to log in."
   ]
  },
  {
   "cell_type": "code",
   "execution_count": null,
   "metadata": {},
   "outputs": [],
   "source": [
    "class Student:\n",
    "    def __init__(self, first, last, number):\n",
    "        self.firstname = first\n",
    "        self.lastname = last\n",
    "        self.student_id = number\n",
    "    def __repr__(self):\n",
    "        return f\"{self.firstname} {self.lastname}\"\n",
    "    def chat(self):\n",
    "        print(f\"Hi, I'm {self}. How are you getting on?\")\n",
    "    def login(self):\n",
    "        print(f\"login: {self.student_id}\")"
   ]
  },
  {
   "cell_type": "code",
   "execution_count": null,
   "metadata": {},
   "outputs": [],
   "source": [
    "anna = Student(\"Anna\", \"Byrne\", 4321)\n",
    "anna.chat()"
   ]
  },
  {
   "cell_type": "code",
   "execution_count": null,
   "metadata": {},
   "outputs": [],
   "source": [
    "anna.login()"
   ]
  },
  {
   "cell_type": "markdown",
   "metadata": {},
   "source": [
    "* Inheritance allows us to avoid this kind of repetition.\n",
    "* We can define the `Student` class as a **subclass** of `Person`, to express the fact that a student is a special kind of person.\n",
    "* Then a `Student` object has all the **attributes** of a `Person` object, and it can avail of all the **methods** defined in the `Person` class."
   ]
  },
  {
   "cell_type": "code",
   "execution_count": null,
   "metadata": {},
   "outputs": [],
   "source": [
    "class Student(Person):\n",
    "    pass"
   ]
  },
  {
   "cell_type": "code",
   "execution_count": null,
   "metadata": {},
   "outputs": [],
   "source": [
    "anna = Student(\"Anna\", \"Byrne\")\n",
    "anna.chat()"
   ]
  },
  {
   "cell_type": "markdown",
   "metadata": {},
   "source": [
    "* A `Student` can have additional attributes.\n",
    "* The `Student` class can define additional methods, and also override existing methods."
   ]
  },
  {
   "cell_type": "code",
   "execution_count": null,
   "metadata": {},
   "outputs": [],
   "source": [
    "class Student(Person):\n",
    "    def __init__(self, first, last, number):\n",
    "        self.firstname = first\n",
    "        self.lastname = last\n",
    "        self.student_id = number\n",
    "    def login(self):\n",
    "        print(f\"login: {self.student_id}\")"
   ]
  },
  {
   "cell_type": "code",
   "execution_count": null,
   "metadata": {},
   "outputs": [],
   "source": [
    "anna = Student(\"Anna\", \"Byrne\", 4321)\n",
    "anna"
   ]
  },
  {
   "cell_type": "code",
   "execution_count": null,
   "metadata": {},
   "outputs": [],
   "source": [
    "anna.chat()"
   ]
  },
  {
   "cell_type": "code",
   "execution_count": null,
   "metadata": {},
   "outputs": [],
   "source": [
    "anna.login()"
   ]
  },
  {
   "cell_type": "markdown",
   "metadata": {},
   "source": [
    "* Using the `super` function,  we can delegate parts of the initializtion to the `Student`'s **superclass** `Person`."
   ]
  },
  {
   "cell_type": "code",
   "execution_count": null,
   "metadata": {},
   "outputs": [],
   "source": [
    "class Student(Person):\n",
    "    def __init__(self, first, last, number):\n",
    "        super().__init__(first, last)\n",
    "        self.student_id = number\n",
    "    def login(self):\n",
    "        print(f\"login: {self.student_id}\")"
   ]
  },
  {
   "cell_type": "code",
   "execution_count": null,
   "metadata": {},
   "outputs": [],
   "source": [
    "anna = Student(\"Anna\", \"Byrne\", 4321)\n",
    "anna"
   ]
  },
  {
   "cell_type": "code",
   "execution_count": null,
   "metadata": {},
   "outputs": [],
   "source": [
    "anna.chat()\n",
    "anna.login()"
   ]
  },
  {
   "cell_type": "markdown",
   "metadata": {},
   "source": [
    "* A `Teacher` is another special kind of `Person`, except that it has a `title` attribute which is used in their salutation.\n",
    "* So: inherit from `Person`, redefine `__init__`, add `title` attribute, redefine `hello`."
   ]
  },
  {
   "cell_type": "code",
   "execution_count": null,
   "metadata": {},
   "outputs": [],
   "source": [
    "class Teacher(Person):\n",
    "    def __init__(self, first, last, title):\n",
    "        super().__init__(first, last)\n",
    "        self.title = title\n",
    "    def __repr__(self):\n",
    "        return f\"{self.title} {self.lastname}\"\n",
    "    def hello(self):\n",
    "        print(f\"Hi, I'm {self}. Have you done your homework?\")\n"
   ]
  },
  {
   "cell_type": "markdown",
   "metadata": {},
   "source": [
    "* Make a `Teacher` object and let them talk ..."
   ]
  },
  {
   "cell_type": "code",
   "execution_count": null,
   "metadata": {},
   "outputs": [],
   "source": [
    "teacher = Teacher(\"Steven\", \"Kennedy\", \"Mr.\")\n",
    "teacher.hello()"
   ]
  },
  {
   "cell_type": "markdown",
   "metadata": {},
   "source": [
    "* In case you were wondering, there is a way to make a `Teacher` behave like a normal `Person` ..."
   ]
  },
  {
   "cell_type": "code",
   "execution_count": null,
   "metadata": {},
   "outputs": [],
   "source": [
    "super(Teacher, teacher).hello()"
   ]
  },
  {
   "cell_type": "markdown",
   "metadata": {},
   "source": [
    "##  Matrix Algebra"
   ]
  },
  {
   "cell_type": "markdown",
   "metadata": {},
   "source": [
    "* Recall the `Vector` class (with some additional special methods):"
   ]
  },
  {
   "cell_type": "code",
   "execution_count": null,
   "metadata": {},
   "outputs": [],
   "source": [
    "class Vector:\n",
    "    def __init__(self, *data):\n",
    "        self.data = data\n",
    "    def __repr__(self):\n",
    "        return f\"Vector{self.data}\"\n",
    "    def __len__(self):\n",
    "        return len(self.data)\n",
    "    def __getitem__(self, i):\n",
    "        return self.data[i]\n",
    "    def __eq__(self, other):\n",
    "        return all(x == y for x, y in zip(self, other))\n",
    "    def __add__(self, other):\n",
    "        return Vector(*[x + y for x, y in zip(self, other)])\n",
    "    def __rmul__(self, other):\n",
    "        return Vector(*[other * x for x in self])\n",
    "    def __neg__(self):\n",
    "        return -1 * self\n",
    "    def __sub__(self, other):\n",
    "        return self + -other\n",
    "    def __and__(self, other):\n",
    "        return sum(x * y for x, y in zip(self, other))"
   ]
  },
  {
   "cell_type": "markdown",
   "metadata": {},
   "source": [
    "* With this class, we can compute for example the following: "
   ]
  },
  {
   "cell_type": "code",
   "execution_count": null,
   "metadata": {},
   "outputs": [],
   "source": [
    "v = Vector(1,2,3)\n",
    "w = Vector(4,5,6)\n",
    "print(v + w)\n",
    "print(w - v)\n",
    "print(0*v)\n",
    "print(0*v == 0*w)"
   ]
  },
  {
   "cell_type": "markdown",
   "metadata": {},
   "source": [
    "* Here we have in particular implemented one more special method `__and__` to allow expressions of the form `v & w` for `Vector` objects `v` and `w`,\n",
    "* The meaning of `v & w` shall be the inner product of the vectors `v` and `w`.\n",
    "* Recall (from last week's exercises) that the **inner product** of two vectors $(a_1, a_2, \\dots, a_n)$ and $(b_1, b_2, \\dots, b_n)$ is the number\n",
    " $$\n",
    "a_1 b_1 + a_2 b_2 + \\dots + a_n b_n\n",
    " $$\n",
    "* We will use this inner product to simplify the implementation of matrix multiplication which comes next, after defining a suitable `Matrix` class."
   ]
  },
  {
   "cell_type": "code",
   "execution_count": null,
   "metadata": {},
   "outputs": [],
   "source": [
    "print(v & w)"
   ]
  },
  {
   "cell_type": "markdown",
   "metadata": {},
   "source": [
    "* A **matrix** can be regarded as a list of vectors, the **rows** of the matrix.\n",
    "* That is, we want to represent the matrix\n",
    "  $$\n",
    "  \\left[\\begin{array}{ccc}\n",
    "  1&2&3\\\\4&5&6\n",
    "  \\end{array}\\right]\n",
    "  $$\n",
    "  as python object\n",
    "  ```python\n",
    "  Matrix(Vector(1,2,3), Vector(4,5,6))\n",
    "  ```\n",
    "* So we need a new class `Matrix`."
   ]
  },
  {
   "cell_type": "code",
   "execution_count": null,
   "metadata": {},
   "outputs": [],
   "source": [
    "class Matrix:\n",
    "    def __init__(self, *data):\n",
    "        self.data = data\n",
    "    def __repr__(self):\n",
    "        return f\"Matrix{self.data}\""
   ]
  },
  {
   "cell_type": "code",
   "execution_count": null,
   "metadata": {},
   "outputs": [],
   "source": [
    "m = Matrix(v, w)\n",
    "m"
   ]
  },
  {
   "cell_type": "markdown",
   "metadata": {},
   "source": [
    "* Matrices are like vectors, they can be **added** and **scaled**.\n",
    "* **Delegation**: keeping in mind that a matrix is a list of vectors, and that `Vector` objects already know how to add and scale, we can keep the corresponding methods for `Matrix` objects short and simple."
   ]
  },
  {
   "cell_type": "code",
   "execution_count": null,
   "metadata": {},
   "outputs": [],
   "source": [
    "class Matrix:\n",
    "    def __init__(self, *data):\n",
    "        self.data = data\n",
    "    def __repr__(self):\n",
    "        return f\"Matrix{self.data}\"\n",
    "    def __len__(self):\n",
    "        return len(self)\n",
    "    def __getitem__(self, i):\n",
    "        return self.data[i]\n",
    "    def __add__(self, other):\n",
    "        return Matrix(*[x + y for x, y in zip(self, other)])\n",
    "    def __rmul__(self, other):\n",
    "        return Matrix(*[other * x for x in self])"
   ]
  },
  {
   "cell_type": "code",
   "execution_count": null,
   "metadata": {},
   "outputs": [],
   "source": [
    "m = Matrix(v, w)\n",
    "m + m"
   ]
  },
  {
   "cell_type": "code",
   "execution_count": null,
   "metadata": {},
   "outputs": [],
   "source": [
    "3 * m"
   ]
  },
  {
   "cell_type": "markdown",
   "metadata": {},
   "source": [
    "*  Now, there is in fact a lot of repetition between the `Matrix` and the `Vector` class.\n",
    "*  Perhaps a `Matrix` is just a special kind of `Vector`, one whose entries are `Vectors` rather than numbers?\n",
    "*  Let's try and use inheritance to reflect this relationship.\n",
    "*  Since `__init__`, `__len__` and `__getitem__` are literally the same code in both classes, we can omit them from the `Matrix` class and instead **inherit** them from `Vector`."
   ]
  },
  {
   "cell_type": "code",
   "execution_count": null,
   "metadata": {},
   "outputs": [],
   "source": [
    "class Matrix(Vector):\n",
    "    def __repr__(self):\n",
    "        return f\"Matrix{self.data}\"\n",
    "    def __add__(self, other):\n",
    "        return Matrix(*[x + y for x, y in zip(self, other)])\n",
    "    def __rmul__(self, other):\n",
    "        return Matrix(*[other * x for x in self])"
   ]
  },
  {
   "cell_type": "code",
   "execution_count": null,
   "metadata": {},
   "outputs": [],
   "source": [
    "m = Matrix(v, w)\n",
    "m + m"
   ]
  },
  {
   "cell_type": "markdown",
   "metadata": {},
   "source": [
    "* In fact, `__eq__`, `__neg__` and `__sub__` will also work as they should with matrices"
   ]
  },
  {
   "cell_type": "code",
   "execution_count": null,
   "metadata": {},
   "outputs": [],
   "source": [
    "m + m + m == 3 * m"
   ]
  },
  {
   "cell_type": "code",
   "execution_count": null,
   "metadata": {},
   "outputs": [],
   "source": [
    "m - m == 0*m"
   ]
  },
  {
   "cell_type": "markdown",
   "metadata": {},
   "source": [
    "* Note that even the $3$ methods defined in the `Matrix` class look very much like their `Vector` counterparts.\n",
    "* The only difference is that one returns (or prints) a `Vector` object, where the other returns a `Matrix` object.\n",
    "* Wouldn't it be nice if we could derive this **type** information from the object and use it programmatically ...\n",
    "* **Introspection**: the vector `v` knows that it is a `Vector` object, the matrix `m` knows that it is a `Matrix` object.\n",
    "* Each python object knows its `type`.\n",
    "* And types are objects ...  that have names ..."
   ]
  },
  {
   "cell_type": "code",
   "execution_count": null,
   "metadata": {},
   "outputs": [],
   "source": [
    "type(v), type(m)"
   ]
  },
  {
   "cell_type": "markdown",
   "metadata": {},
   "source": [
    "* Since the type is a class, it can be used to create objects."
   ]
  },
  {
   "cell_type": "code",
   "execution_count": null,
   "metadata": {},
   "outputs": [],
   "source": [
    "type(v)(1,1,1)"
   ]
  },
  {
   "cell_type": "markdown",
   "metadata": {},
   "source": [
    "* And the **name** of a type (or class) is contained in its `__name__` component."
   ]
  },
  {
   "cell_type": "code",
   "execution_count": null,
   "metadata": {},
   "outputs": [],
   "source": [
    "type(v).__name__"
   ]
  },
  {
   "cell_type": "markdown",
   "metadata": {},
   "source": [
    "* Using this, we can remove the explict references to the class name from the `Vector` class as follows."
   ]
  },
  {
   "cell_type": "markdown",
   "metadata": {},
   "source": [
    "* We replace `__repr__` with\n",
    "  ```python\n",
    "    def __repr__(self):\n",
    "        return f\"{type(self).__name__}{self.data}\" \n",
    "  ```"
   ]
  },
  {
   "cell_type": "markdown",
   "metadata": {},
   "source": [
    "* We replace `__add__` with\n",
    "  ```python\n",
    "    def __add__(self, other):\n",
    "        return type(self)(*[x + y for x, y in zip(self, other)])\n",
    "  ```"
   ]
  },
  {
   "cell_type": "markdown",
   "metadata": {},
   "source": [
    "* And we replace `__rmul__` with\n",
    "  ```python\n",
    "    def __rmul__(self, other):\n",
    "        return type(self)(*[other * x for x in self])\n",
    "  ```"
   ]
  },
  {
   "cell_type": "markdown",
   "metadata": {},
   "source": [
    "* Here it goes:"
   ]
  },
  {
   "cell_type": "code",
   "execution_count": null,
   "metadata": {},
   "outputs": [],
   "source": [
    "class Vector:\n",
    "    def __init__(self, *data):\n",
    "        self.data = data\n",
    "    def __repr__(self):\n",
    "        return f\"{type(self).__name__}{self.data}\"\n",
    "    def __len__(self):\n",
    "        return len(self.data)\n",
    "    def __getitem__(self, i):\n",
    "        return self.data[i]\n",
    "    def __eq__(self, other):\n",
    "        return all(x == y for x, y in zip(self, other))\n",
    "    def __add__(self, other):\n",
    "        return type(self)(*[x + y for x, y in zip(self, other)])\n",
    "    def __rmul__(self, other):\n",
    "        return type(self)(*[other * x for x in self])\n",
    "    def __neg__(self):\n",
    "        return -1 * self\n",
    "    def __sub__(self, other):\n",
    "        return self + -other\n",
    "    def __and__(self, other):\n",
    "        return sum(x * y for x, y in zip(self, other))"
   ]
  },
  {
   "cell_type": "markdown",
   "metadata": {},
   "source": [
    "* Test drive, again ..."
   ]
  },
  {
   "cell_type": "code",
   "execution_count": null,
   "metadata": {},
   "outputs": [],
   "source": [
    "v = Vector(1,2,3)\n",
    "w = Vector(4,5,6)\n",
    "v, w"
   ]
  },
  {
   "cell_type": "code",
   "execution_count": null,
   "metadata": {},
   "outputs": [],
   "source": [
    "w - v"
   ]
  },
  {
   "cell_type": "code",
   "execution_count": null,
   "metadata": {},
   "outputs": [],
   "source": [
    "3 * w == w + w + w"
   ]
  },
  {
   "cell_type": "markdown",
   "metadata": {},
   "source": [
    "* And then:  a `Matrix` is a special kind of `Vector` ..."
   ]
  },
  {
   "cell_type": "code",
   "execution_count": null,
   "metadata": {},
   "outputs": [],
   "source": [
    "class Matrix(Vector):\n",
    "    pass"
   ]
  },
  {
   "cell_type": "code",
   "execution_count": null,
   "metadata": {},
   "outputs": [],
   "source": [
    "m = Matrix(v, w)\n",
    "m"
   ]
  },
  {
   "cell_type": "code",
   "execution_count": null,
   "metadata": {},
   "outputs": [],
   "source": [
    "m + m"
   ]
  },
  {
   "cell_type": "code",
   "execution_count": null,
   "metadata": {},
   "outputs": [],
   "source": [
    "3 * m"
   ]
  },
  {
   "cell_type": "code",
   "execution_count": null,
   "metadata": {},
   "outputs": [],
   "source": [
    "3 * m == m + m + m"
   ]
  },
  {
   "cell_type": "code",
   "execution_count": null,
   "metadata": {},
   "outputs": [],
   "source": [
    "m - m == 0*m"
   ]
  },
  {
   "cell_type": "markdown",
   "metadata": {},
   "source": [
    "## Matrix Multiplication"
   ]
  },
  {
   "cell_type": "markdown",
   "metadata": {},
   "source": [
    "* By definition, if $A = (a_{ij})$ and $B = (b_jk)$ then $A B = C = (c_{ik})$, where\n",
    "  $$\n",
    "  c_{ik} = \\sum_j a_{ij} b_{jk}\n",
    "  $$\n",
    "* On closer inspection the $i,k$-entry of the product matrix $C$ is the **inner product** of the $i$-th **row** of $A$, i.e., the vector\n",
    "  $$\n",
    "(a_{i1}, a_{i2}, \\dots, a_{in})\n",
    "  $$\n",
    "  and the $k$-th **column** of $B$, i.e., the vector\n",
    "  $$\n",
    "  (b_{1k}, b_{2k}, \\dots, b_{nk})\n",
    "  $$\n",
    "* So perhaps we can use our `Vector` inner product `v & w` to compute products of matrices ..."
   ]
  },
  {
   "cell_type": "markdown",
   "metadata": {},
   "source": [
    "* **Example**.\n",
    "  $$\n",
    "  A = \\left[\n",
    "  \\begin{array}{ccc}\n",
    "  1 & 0 & 1 \\\\\n",
    "  2 & 1 & 1 \\\\\n",
    "  0 & 1 & 1 \\\\\n",
    "  1 & 1 & 2\n",
    "  \\end{array}\n",
    "  \\right]\n",
    "  \\qquad\n",
    "    B = \\left[\n",
    "  \\begin{array}{ccc}\n",
    "  1 & 2 & 1 \\\\\n",
    "  2 & 3 & 1 \\\\\n",
    "  4 & 2 & 2 \\\\\n",
    "  \\end{array}\n",
    "  \\right]\n",
    "  \\qquad\n",
    "  AB = \\left[\n",
    "  \\begin{array}{ccc}\n",
    "  5 & 4 & 3 \\\\\n",
    "  8 & 9 & 5 \\\\\n",
    "  6 & 5 & 3 \\\\\n",
    "  11 & 9 & 6\n",
    "  \\end{array}\n",
    "  \\right]\n",
    "  $$"
   ]
  },
  {
   "cell_type": "markdown",
   "metadata": {},
   "source": [
    "* But first, in order to be able to access the **columns** of a matrix (as `Vector`s) we need a way to **transpose** a matrix.\n",
    "* Recall `zip` ..."
   ]
  },
  {
   "cell_type": "code",
   "execution_count": null,
   "metadata": {},
   "outputs": [],
   "source": [
    "ma = Matrix(\n",
    "    Vector(1, 0, 1),\n",
    "    Vector(2, 1, 1),\n",
    "    Vector(0, 1, 1),\n",
    "    Vector(1, 1, 2)\n",
    ")\n",
    "ma"
   ]
  },
  {
   "cell_type": "code",
   "execution_count": null,
   "metadata": {},
   "outputs": [],
   "source": [
    "list(zip(*ma.data))"
   ]
  },
  {
   "cell_type": "code",
   "execution_count": null,
   "metadata": {},
   "outputs": [],
   "source": [
    "list(zip(*ma))"
   ]
  },
  {
   "cell_type": "code",
   "execution_count": null,
   "metadata": {},
   "outputs": [],
   "source": [
    "[Vector(*x) for x in zip(*ma)]"
   ]
  },
  {
   "cell_type": "code",
   "execution_count": null,
   "metadata": {},
   "outputs": [],
   "source": [
    "Matrix(*[Vector(*x) for x in zip(*ma)])"
   ]
  },
  {
   "cell_type": "code",
   "execution_count": null,
   "metadata": {},
   "outputs": [],
   "source": []
  },
  {
   "cell_type": "code",
   "execution_count": null,
   "metadata": {},
   "outputs": [],
   "source": [
    "class Matrix(Vector):\n",
    "    def transpose(self):\n",
    "        return Matrix(*[Vector(*x) for x in zip(*self)])"
   ]
  },
  {
   "cell_type": "code",
   "execution_count": null,
   "metadata": {},
   "outputs": [],
   "source": [
    "ma = Matrix(\n",
    "    Vector(1, 0, 1),\n",
    "    Vector(2, 1, 1),\n",
    "    Vector(0, 1, 1),\n",
    "    Vector(1, 1, 2)\n",
    ")\n",
    "mb = Matrix(\n",
    "    Vector(1, 2, 1),\n",
    "    Vector(2, 3, 1),\n",
    "    Vector(4, 2, 2)\n",
    ")"
   ]
  },
  {
   "cell_type": "code",
   "execution_count": null,
   "metadata": {},
   "outputs": [],
   "source": [
    "mb.transpose()"
   ]
  },
  {
   "cell_type": "code",
   "execution_count": null,
   "metadata": {},
   "outputs": [],
   "source": [
    "[v & w for v in ma for w in mb.transpose()]"
   ]
  },
  {
   "cell_type": "code",
   "execution_count": null,
   "metadata": {},
   "outputs": [],
   "source": [
    "[[v & w for v in ma] for w in mb.transpose()]"
   ]
  },
  {
   "cell_type": "code",
   "execution_count": null,
   "metadata": {},
   "outputs": [],
   "source": [
    "[[v & w for w in mb.transpose()] for v in ma]"
   ]
  },
  {
   "cell_type": "code",
   "execution_count": null,
   "metadata": {},
   "outputs": [],
   "source": [
    "Matrix(*[Vector(*[v & w for w in mb.transpose()]) for v in ma])"
   ]
  },
  {
   "cell_type": "markdown",
   "metadata": {},
   "source": [
    "* But, note how the $k$th column of the product $AB$ is the vector consisting of the inner products of **all** the rows of $A$ with the $k$th column of $B$ ...\n",
    "* So if we define `m & v` to be the vector of all inner products of the rows of a matrix `m` with a vector `v` ...\n",
    "* ... then the **matrix product** `ma @ mb` could be computed as transpose of `ma & v` for `v` in `mb.transpose` ..."
   ]
  },
  {
   "cell_type": "code",
   "execution_count": null,
   "metadata": {},
   "outputs": [],
   "source": [
    "class Matrix(Vector):\n",
    "    def transpose(self):\n",
    "        return Matrix(*[Vector(*x) for x in zip(*self)])\n",
    "#    def __rmatmul__(self, other):\n",
    "#        return Vector(*[other & x for x in self.transpose()])\n",
    "    def __and__(self, other):\n",
    "        return Vector(*[x & other for x in self])\n",
    "    def __matmul__(self, other):\n",
    "        return Matrix(*[self &  x for x in other.transpose()]).transpose()"
   ]
  },
  {
   "cell_type": "code",
   "execution_count": null,
   "metadata": {},
   "outputs": [],
   "source": [
    "m = Matrix(v, w)\n",
    "m"
   ]
  },
  {
   "cell_type": "code",
   "execution_count": null,
   "metadata": {},
   "outputs": [],
   "source": [
    "m.transpose()"
   ]
  },
  {
   "cell_type": "code",
   "execution_count": null,
   "metadata": {},
   "outputs": [],
   "source": [
    "m @ m.transpose()"
   ]
  },
  {
   "cell_type": "code",
   "execution_count": null,
   "metadata": {},
   "outputs": [],
   "source": [
    "m.transpose() @ m"
   ]
  },
  {
   "cell_type": "code",
   "execution_count": null,
   "metadata": {},
   "outputs": [],
   "source": [
    "ma = Matrix(\n",
    "    Vector(1, 0, 1),\n",
    "    Vector(2, 1, 1),\n",
    "    Vector(0, 1, 1),\n",
    "    Vector(1, 1, 2)\n",
    ")\n",
    "mb = Matrix(\n",
    "    Vector(1, 2, 1),\n",
    "    Vector(2, 3, 1),\n",
    "    Vector(4, 2, 2)\n",
    ")"
   ]
  },
  {
   "cell_type": "code",
   "execution_count": null,
   "metadata": {},
   "outputs": [],
   "source": [
    "ma @ mb"
   ]
  },
  {
   "cell_type": "code",
   "execution_count": null,
   "metadata": {},
   "outputs": [],
   "source": []
  },
  {
   "cell_type": "markdown",
   "metadata": {},
   "source": [
    "## Summary\n",
    "\n",
    "* Classes often form a hierarchy of related types.\n",
    "* In python, a class can be defined as a subclass of another class, thereby **inheriting** all of that classes methods.\n",
    "* Under suitable circumstances, inheritance can save a lot of code duplication and thus structure and simplify a large program\n",
    "* Careful use of special methods allos for short implementations of complex tasks."
   ]
  },
  {
   "cell_type": "markdown",
   "metadata": {},
   "source": [
    "## References"
   ]
  },
  {
   "cell_type": "markdown",
   "metadata": {},
   "source": [
    "### Python\n",
    "\n",
    "* inheritance tutorial\n",
    "* the `super` function"
   ]
  },
  {
   "cell_type": "markdown",
   "metadata": {},
   "source": [
    "##  Exercises"
   ]
  },
  {
   "cell_type": "markdown",
   "metadata": {},
   "source": [
    "* One or two easy exercises first ..."
   ]
  },
  {
   "cell_type": "code",
   "execution_count": null,
   "metadata": {},
   "outputs": [],
   "source": []
  },
  {
   "cell_type": "markdown",
   "metadata": {},
   "source": [
    "* Is there a way to get rid of one of the two `transpose` calls in our implementation of matrix multiplication?"
   ]
  },
  {
   "cell_type": "code",
   "execution_count": null,
   "metadata": {},
   "outputs": [],
   "source": []
  }
 ],
 "metadata": {
  "kernelspec": {
   "display_name": "Python 3 (ipykernel)",
   "language": "python",
   "name": "python3"
  },
  "language_info": {
   "codemirror_mode": {
    "name": "ipython",
    "version": 3
   },
   "file_extension": ".py",
   "mimetype": "text/x-python",
   "name": "python",
   "nbconvert_exporter": "python",
   "pygments_lexer": "ipython3",
   "version": "3.12.3"
  }
 },
 "nbformat": 4,
 "nbformat_minor": 4
}
