{
 "cells": [
  {
   "cell_type": "markdown",
   "metadata": {},
   "source": [
    "### CS2101 - Programming for Science and Finance\n",
    "Prof. Götz Pfeiffer<br />\n",
    "School of Mathematical and Statistical Sciences<br />\n",
    "University of Galway\n",
    "\n",
    "***"
   ]
  },
  {
   "cell_type": "markdown",
   "metadata": {},
   "source": [
    "# Week 4: Inheritance, Matrices"
   ]
  },
  {
   "cell_type": "markdown",
   "metadata": {},
   "source": [
    "## Inheritance"
   ]
  },
  {
   "cell_type": "code",
   "execution_count": 26,
   "metadata": {},
   "outputs": [],
   "source": [
    "class Person:\n",
    "    def __init__(self, first, last):\n",
    "        self.firstname = first\n",
    "        self.lastname = last\n",
    "    def __repr__(self):\n",
    "        return f\"{self.firstname} {self.lastname}\"\n",
    "    def hello(self):\n",
    "        print(f\"Hi, I'm {self}. How are you getting on?\")"
   ]
  },
  {
   "cell_type": "code",
   "execution_count": 27,
   "metadata": {},
   "outputs": [
    {
     "data": {
      "text/plain": [
       "John Kelly"
      ]
     },
     "execution_count": 27,
     "metadata": {},
     "output_type": "execute_result"
    }
   ],
   "source": [
    "john = Person(\"John\", \"Kelly\")\n",
    "john"
   ]
  },
  {
   "cell_type": "code",
   "execution_count": 28,
   "metadata": {},
   "outputs": [
    {
     "name": "stdout",
     "output_type": "stream",
     "text": [
      "Hi, I'm John Kelly. How are you getting on?\n"
     ]
    }
   ],
   "source": [
    "john.hello()"
   ]
  },
  {
   "cell_type": "markdown",
   "metadata": {},
   "source": [
    "* A `Student` is like a `Person`, except that it **has** a student id, and that it **use** that to log in."
   ]
  },
  {
   "cell_type": "code",
   "execution_count": 29,
   "metadata": {},
   "outputs": [],
   "source": [
    "class Student:\n",
    "    def __init__(self, first, last, number):\n",
    "        self.firstname = first\n",
    "        self.lastname = last\n",
    "        self.student_id = number\n",
    "    def __repr__(self):\n",
    "        return f\"{self.firstname} {self.lastname}\"\n",
    "    def hello(self):\n",
    "        print(f\"Hi, I'm {self}. How are you getting on?\")\n",
    "    def login(self):\n",
    "        print(f\"login: {self.student_id}\")"
   ]
  },
  {
   "cell_type": "code",
   "execution_count": 30,
   "metadata": {},
   "outputs": [],
   "source": [
    "anna = Student(\"Anna\", \"Byrne\", 4321)"
   ]
  },
  {
   "cell_type": "code",
   "execution_count": 21,
   "metadata": {},
   "outputs": [
    {
     "name": "stdout",
     "output_type": "stream",
     "text": [
      "login: 4321\n"
     ]
    }
   ],
   "source": [
    "anna.login()"
   ]
  },
  {
   "cell_type": "markdown",
   "metadata": {},
   "source": [
    "* Inheritance allows us to avoid the repetition.\n",
    "* We can define the `Student` class as a **subclass** of `Person`, to express the fact that a student is a special kind of person.\n",
    "* Then a `Student` object has all the **attributes** of a `Person` object, and it can avail of all the methods defined in the `Person` class."
   ]
  },
  {
   "cell_type": "code",
   "execution_count": 47,
   "metadata": {},
   "outputs": [],
   "source": [
    "class Student(Person):\n",
    "    pass"
   ]
  },
  {
   "cell_type": "code",
   "execution_count": 48,
   "metadata": {},
   "outputs": [
    {
     "name": "stdout",
     "output_type": "stream",
     "text": [
      "Hi, I'm Anna Byrne. How are you getting on?\n"
     ]
    }
   ],
   "source": [
    "anna = Student(\"Anna\", \"Byrne\")\n",
    "anna.hello()"
   ]
  },
  {
   "cell_type": "markdown",
   "metadata": {},
   "source": [
    "* A `Student` can have additional attributes.\n",
    "* The `Student` class can define additional methods, and also override existing methods."
   ]
  },
  {
   "cell_type": "code",
   "execution_count": 49,
   "metadata": {},
   "outputs": [],
   "source": [
    "class Student(Person):\n",
    "    def __init__(self, first, last, number):\n",
    "        self.firstname = first\n",
    "        self.lastname = last\n",
    "        self.student_id = number\n",
    "    def login(self):\n",
    "        print(f\"login: {self.student_id}\")"
   ]
  },
  {
   "cell_type": "code",
   "execution_count": 50,
   "metadata": {},
   "outputs": [
    {
     "data": {
      "text/plain": [
       "Anna Byrne"
      ]
     },
     "execution_count": 50,
     "metadata": {},
     "output_type": "execute_result"
    }
   ],
   "source": [
    "anna = Student(\"Anna\", \"Byrne\", 4321)\n",
    "anna"
   ]
  },
  {
   "cell_type": "code",
   "execution_count": 51,
   "metadata": {},
   "outputs": [
    {
     "name": "stdout",
     "output_type": "stream",
     "text": [
      "Hi, I'm Anna Byrne. How are you getting on?\n"
     ]
    }
   ],
   "source": [
    "anna.hello()"
   ]
  },
  {
   "cell_type": "code",
   "execution_count": 52,
   "metadata": {},
   "outputs": [
    {
     "name": "stdout",
     "output_type": "stream",
     "text": [
      "login: 4321\n"
     ]
    }
   ],
   "source": [
    "anna.login()"
   ]
  },
  {
   "cell_type": "code",
   "execution_count": 53,
   "metadata": {},
   "outputs": [],
   "source": [
    "class Student(Person):\n",
    "    def __init__(self, first, last, number):\n",
    "        super().__init__(first, last)\n",
    "        self.student_id = number\n",
    "    def login(self):\n",
    "        print(f\"login: {self.student_id}\")"
   ]
  },
  {
   "cell_type": "code",
   "execution_count": 54,
   "metadata": {},
   "outputs": [
    {
     "data": {
      "text/plain": [
       "Anna Byrne"
      ]
     },
     "execution_count": 54,
     "metadata": {},
     "output_type": "execute_result"
    }
   ],
   "source": [
    "anna = Student(\"Anna\", \"Byrne\", 4321)\n",
    "anna"
   ]
  },
  {
   "cell_type": "markdown",
   "metadata": {},
   "source": [
    "* A `Teacher` is special kind of `Person`, except that it has a `title` attribute which is used in their greeting.\n",
    "* So: inherit from `Person`, redefine `__init__`, add `title` attribute, redefine `hello`."
   ]
  },
  {
   "cell_type": "code",
   "execution_count": 62,
   "metadata": {},
   "outputs": [],
   "source": [
    "class Teacher(Person):\n",
    "    def __init__(self, first, last, title):\n",
    "        super().__init__(first, last)\n",
    "        self.title = title\n",
    "    def __repr__(self):\n",
    "        return f\"{self.title} {self.firstname} {self.lastname}\"\n",
    "    def hello(self):\n",
    "        print(f\"Hi, I'm {self}. Have you done your homework?\")\n"
   ]
  },
  {
   "cell_type": "code",
   "execution_count": 66,
   "metadata": {},
   "outputs": [],
   "source": [
    "prof = Teacher(\"Götz\", \"Pfeiffer\", \"Prof.\")"
   ]
  },
  {
   "cell_type": "code",
   "execution_count": 67,
   "metadata": {},
   "outputs": [
    {
     "name": "stdout",
     "output_type": "stream",
     "text": [
      "Hi, I'm Prof. Götz Pfeiffer. Have you done your homework?\n"
     ]
    }
   ],
   "source": [
    "prof.hello()"
   ]
  },
  {
   "cell_type": "markdown",
   "metadata": {},
   "source": [
    "##  Matrix Algebra"
   ]
  },
  {
   "cell_type": "markdown",
   "metadata": {},
   "source": [
    "* Recall the `Vector` class:"
   ]
  },
  {
   "cell_type": "code",
   "execution_count": 123,
   "metadata": {},
   "outputs": [],
   "source": [
    "class Vector:\n",
    "    def __init__(self, *data):\n",
    "        self.data = data\n",
    "    def __repr__(self):\n",
    "        return f\"Vector{self.data}\"\n",
    "    def __len__(self):\n",
    "        return len(self.data)\n",
    "    def __getitem__(self, i):\n",
    "        return self.data[i]\n",
    "    def __eq__(self, other):\n",
    "        return all(x == y for x, y in zip(self, other))\n",
    "    def __add__(self, other):\n",
    "        return Vector(*[x + y for x, y in zip(self, other)])\n",
    "    def __rmul__(self, other):\n",
    "        return Vector(*[other * x for x in self])\n",
    "    def __neg__(self):\n",
    "        return -1 * self\n",
    "    def __sub__(self, other):\n",
    "        return self + -other\n",
    "    def __and__(self, other):\n",
    "        return sum(x * y for x, y in zip(self, other))"
   ]
  },
  {
   "cell_type": "code",
   "execution_count": 124,
   "metadata": {},
   "outputs": [
    {
     "name": "stdout",
     "output_type": "stream",
     "text": [
      "Vector(5, 7, 9)\n",
      "Vector(3, 3, 3)\n",
      "Vector(0, 0, 0)\n",
      "True\n",
      "32\n"
     ]
    }
   ],
   "source": [
    "v = Vector(1,2,3)\n",
    "w = Vector(4,5,6)\n",
    "print(v + w)\n",
    "print(w - v)\n",
    "print(0*v)\n",
    "print(0*v == 0*w)\n",
    "print(v & w)"
   ]
  },
  {
   "cell_type": "markdown",
   "metadata": {},
   "source": [
    "* A **matrix** is a list of vectors, the rows of the matrix.\n",
    "* That is, we want to represent the matrix\n",
    "  $$\n",
    "  \\left[\\begin{array}{ccc}\n",
    "  1&2&3\\\\4&5&6\n",
    "  \\end{array}\\right]\n",
    "  $$\n",
    "  as\n",
    "  ```python\n",
    "  Matrix(Vector(1,2,3), Vector(4,5,6))\n",
    "  ```\n",
    "* So we need a new class `Matrix`."
   ]
  },
  {
   "cell_type": "code",
   "execution_count": 125,
   "metadata": {},
   "outputs": [],
   "source": [
    "class Matrix:\n",
    "    def __init__(self, *data):\n",
    "        self.data = data\n",
    "    def __repr__(self):\n",
    "        return f\"Matrix{self.data}\""
   ]
  },
  {
   "cell_type": "code",
   "execution_count": 126,
   "metadata": {},
   "outputs": [
    {
     "data": {
      "text/plain": [
       "Matrix(Vector(1, 2, 3), Vector(4, 5, 6))"
      ]
     },
     "execution_count": 126,
     "metadata": {},
     "output_type": "execute_result"
    }
   ],
   "source": [
    "m = Matrix(v, w)\n",
    "m"
   ]
  },
  {
   "cell_type": "markdown",
   "metadata": {},
   "source": [
    "* Matrices are like vectors, they can be **added** and **scaled**.\n",
    "* **Delegation**: keeping in mind that a matrix is a list of vectors, and that `Vector` objects already know how to add and scale, we can keep the corresponding methods for `Matrix` objects short and simple."
   ]
  },
  {
   "cell_type": "code",
   "execution_count": 127,
   "metadata": {},
   "outputs": [],
   "source": [
    "class Matrix:\n",
    "    def __init__(self, *data):\n",
    "        self.data = data\n",
    "    def __repr__(self):\n",
    "        return f\"Matrix{self.data}\"\n",
    "    def __len__(self):\n",
    "        return len(self)\n",
    "    def __getitem__(self, i):\n",
    "        return self.data[i]\n",
    "    def __add__(self, other):\n",
    "        return Matrix(*[x + y for x, y in zip(self, other)])\n",
    "    def __rmul__(self, other):\n",
    "        return Matrix(*[other * x for x in self])"
   ]
  },
  {
   "cell_type": "code",
   "execution_count": 128,
   "metadata": {},
   "outputs": [
    {
     "data": {
      "text/plain": [
       "Matrix(Vector(2, 4, 6), Vector(8, 10, 12))"
      ]
     },
     "execution_count": 128,
     "metadata": {},
     "output_type": "execute_result"
    }
   ],
   "source": [
    "m = Matrix(v, w)\n",
    "m + m"
   ]
  },
  {
   "cell_type": "code",
   "execution_count": 129,
   "metadata": {},
   "outputs": [
    {
     "data": {
      "text/plain": [
       "Matrix(Vector(3, 6, 9), Vector(12, 15, 18))"
      ]
     },
     "execution_count": 129,
     "metadata": {},
     "output_type": "execute_result"
    }
   ],
   "source": [
    "3 * m"
   ]
  },
  {
   "cell_type": "markdown",
   "metadata": {},
   "source": [
    "*  There is in fact a lot of repetition between the `Matrix` and the `Vector` class.\n",
    "*  Perhaps a `Matrix` is just a special kind of `Vector`, one whose entries are `Vectors` rather than numbers?\n",
    "*  Let's try and use inheritance to reflect this relationship."
   ]
  },
  {
   "cell_type": "code",
   "execution_count": 130,
   "metadata": {},
   "outputs": [],
   "source": [
    "class Matrix(Vector):\n",
    "    def __repr__(self):\n",
    "        return f\"Matrix{self.data}\"\n",
    "    def __add__(self, other):\n",
    "        return Matrix(*[x + y for x, y in zip(self, other)])\n",
    "    def __rmul__(self, other):\n",
    "        return Matrix(*[other * x for x in self])"
   ]
  },
  {
   "cell_type": "code",
   "execution_count": 131,
   "metadata": {},
   "outputs": [
    {
     "data": {
      "text/plain": [
       "Matrix(Vector(2, 4, 6), Vector(8, 10, 12))"
      ]
     },
     "execution_count": 131,
     "metadata": {},
     "output_type": "execute_result"
    }
   ],
   "source": [
    "m = Matrix(v, w)\n",
    "m + m"
   ]
  },
  {
   "cell_type": "code",
   "execution_count": 132,
   "metadata": {},
   "outputs": [
    {
     "data": {
      "text/plain": [
       "True"
      ]
     },
     "execution_count": 132,
     "metadata": {},
     "output_type": "execute_result"
    }
   ],
   "source": [
    "m + m + m == 3 * m"
   ]
  },
  {
   "cell_type": "markdown",
   "metadata": {},
   "source": [
    "* Even the $3$ methods defined in the `Matrix` class look very much like their `Vector` counterparts.\n",
    "* **Introspection**: the vector `v` knows that it is a `Vector` object, the matrix `m` knows that it is a `Matrix` object.\n",
    "* Each python object knows its `type`.\n",
    "* And types are objects ...  that have names ..."
   ]
  },
  {
   "cell_type": "code",
   "execution_count": 133,
   "metadata": {},
   "outputs": [
    {
     "data": {
      "text/plain": [
       "(__main__.Vector, __main__.Matrix)"
      ]
     },
     "execution_count": 133,
     "metadata": {},
     "output_type": "execute_result"
    }
   ],
   "source": [
    "type(v), type(m)"
   ]
  },
  {
   "cell_type": "code",
   "execution_count": 134,
   "metadata": {},
   "outputs": [
    {
     "data": {
      "text/plain": [
       "Vector(1, 1, 1)"
      ]
     },
     "execution_count": 134,
     "metadata": {},
     "output_type": "execute_result"
    }
   ],
   "source": [
    "type(v)(1,1,1)"
   ]
  },
  {
   "cell_type": "code",
   "execution_count": 135,
   "metadata": {},
   "outputs": [
    {
     "data": {
      "text/plain": [
       "'Vector'"
      ]
     },
     "execution_count": 135,
     "metadata": {},
     "output_type": "execute_result"
    }
   ],
   "source": [
    "type(v).__name__"
   ]
  },
  {
   "cell_type": "markdown",
   "metadata": {},
   "source": [
    "* So we can remove the explict references to the class name from the `Vector` class as follows."
   ]
  },
  {
   "cell_type": "code",
   "execution_count": 136,
   "metadata": {},
   "outputs": [],
   "source": [
    "class Vector:\n",
    "    def __init__(self, *data):\n",
    "        self.data = data\n",
    "    def __repr__(self):\n",
    "        return f\"{type(self).__name__}{self.data}\"\n",
    "    def __len__(self):\n",
    "        return len(self.data)\n",
    "    def __getitem__(self, i):\n",
    "        return self.data[i]\n",
    "    def __eq__(self, other):\n",
    "        return all(x == y for x, y in zip(self, other))\n",
    "    def __add__(self, other):\n",
    "        return type(self)(*[x + y for x, y in zip(self, other)])\n",
    "    def __rmul__(self, other):\n",
    "        return type(self)(*[other * x for x in self])\n",
    "    def __neg__(self):\n",
    "        return -1 * self\n",
    "    def __sub__(self, other):\n",
    "        return self + -other\n",
    "    def __and__(self, other):\n",
    "        return sum(x * y for x, y in zip(self, other))"
   ]
  },
  {
   "cell_type": "code",
   "execution_count": 137,
   "metadata": {},
   "outputs": [
    {
     "data": {
      "text/plain": [
       "(Vector(1, 2, 3), Vector(4, 5, 6))"
      ]
     },
     "execution_count": 137,
     "metadata": {},
     "output_type": "execute_result"
    }
   ],
   "source": [
    "v = Vector(1,2,3)\n",
    "w = Vector(4,5,6)\n",
    "v, w"
   ]
  },
  {
   "cell_type": "code",
   "execution_count": 138,
   "metadata": {},
   "outputs": [
    {
     "data": {
      "text/plain": [
       "Vector(3, 3, 3)"
      ]
     },
     "execution_count": 138,
     "metadata": {},
     "output_type": "execute_result"
    }
   ],
   "source": [
    "w - v"
   ]
  },
  {
   "cell_type": "code",
   "execution_count": 139,
   "metadata": {},
   "outputs": [
    {
     "data": {
      "text/plain": [
       "True"
      ]
     },
     "execution_count": 139,
     "metadata": {},
     "output_type": "execute_result"
    }
   ],
   "source": [
    "3 * w == w + w + w"
   ]
  },
  {
   "cell_type": "markdown",
   "metadata": {},
   "source": [
    "* And then:"
   ]
  },
  {
   "cell_type": "code",
   "execution_count": 140,
   "metadata": {},
   "outputs": [],
   "source": [
    "class Matrix(Vector):\n",
    "    pass"
   ]
  },
  {
   "cell_type": "code",
   "execution_count": 141,
   "metadata": {},
   "outputs": [
    {
     "data": {
      "text/plain": [
       "Matrix(Vector(1, 2, 3), Vector(4, 5, 6))"
      ]
     },
     "execution_count": 141,
     "metadata": {},
     "output_type": "execute_result"
    }
   ],
   "source": [
    "m = Matrix(v, w)\n",
    "m"
   ]
  },
  {
   "cell_type": "code",
   "execution_count": 142,
   "metadata": {},
   "outputs": [
    {
     "data": {
      "text/plain": [
       "Matrix(Vector(2, 4, 6), Vector(8, 10, 12))"
      ]
     },
     "execution_count": 142,
     "metadata": {},
     "output_type": "execute_result"
    }
   ],
   "source": [
    "m + m"
   ]
  },
  {
   "cell_type": "code",
   "execution_count": 143,
   "metadata": {},
   "outputs": [
    {
     "data": {
      "text/plain": [
       "Matrix(Vector(3, 6, 9), Vector(12, 15, 18))"
      ]
     },
     "execution_count": 143,
     "metadata": {},
     "output_type": "execute_result"
    }
   ],
   "source": [
    "3 * m"
   ]
  },
  {
   "cell_type": "code",
   "execution_count": 144,
   "metadata": {},
   "outputs": [
    {
     "data": {
      "text/plain": [
       "True"
      ]
     },
     "execution_count": 144,
     "metadata": {},
     "output_type": "execute_result"
    }
   ],
   "source": [
    "3 * m == m + m + m"
   ]
  },
  {
   "cell_type": "markdown",
   "metadata": {},
   "source": [
    "*  The transpose of a matrix ..."
   ]
  },
  {
   "cell_type": "code",
   "execution_count": 154,
   "metadata": {},
   "outputs": [],
   "source": [
    "class Matrix(Vector):\n",
    "    def transpose(self):\n",
    "        return Matrix(*[Vector(*x) for x in zip(*self)])\n",
    "    def __rmatmul__(self, other):\n",
    "        return Vector(*[other & x for x in self.transpose()])        \n",
    "    def __matmul__(self, other):\n",
    "        return Matrix(*[x @ other for x in self])"
   ]
  },
  {
   "cell_type": "code",
   "execution_count": 155,
   "metadata": {},
   "outputs": [
    {
     "data": {
      "text/plain": [
       "Matrix(Vector(1, 2, 3), Vector(4, 5, 6))"
      ]
     },
     "execution_count": 155,
     "metadata": {},
     "output_type": "execute_result"
    }
   ],
   "source": [
    "m = Matrix(v, w)\n",
    "m"
   ]
  },
  {
   "cell_type": "code",
   "execution_count": 156,
   "metadata": {},
   "outputs": [
    {
     "data": {
      "text/plain": [
       "Matrix(Vector(1, 4), Vector(2, 5), Vector(3, 6))"
      ]
     },
     "execution_count": 156,
     "metadata": {},
     "output_type": "execute_result"
    }
   ],
   "source": [
    "m.transpose()"
   ]
  },
  {
   "cell_type": "code",
   "execution_count": 157,
   "metadata": {},
   "outputs": [
    {
     "data": {
      "text/plain": [
       "Matrix(Vector(14, 32), Vector(32, 77))"
      ]
     },
     "execution_count": 157,
     "metadata": {},
     "output_type": "execute_result"
    }
   ],
   "source": [
    "m @ m.transpose()"
   ]
  },
  {
   "cell_type": "code",
   "execution_count": 158,
   "metadata": {},
   "outputs": [
    {
     "data": {
      "text/plain": [
       "Matrix(Vector(17, 22, 27), Vector(22, 29, 36), Vector(27, 36, 45))"
      ]
     },
     "execution_count": 158,
     "metadata": {},
     "output_type": "execute_result"
    }
   ],
   "source": [
    "m.transpose() @ m"
   ]
  },
  {
   "cell_type": "code",
   "execution_count": null,
   "metadata": {},
   "outputs": [],
   "source": []
  }
 ],
 "metadata": {
  "kernelspec": {
   "display_name": "Python 3 (ipykernel)",
   "language": "python",
   "name": "python3"
  },
  "language_info": {
   "codemirror_mode": {
    "name": "ipython",
    "version": 3
   },
   "file_extension": ".py",
   "mimetype": "text/x-python",
   "name": "python",
   "nbconvert_exporter": "python",
   "pygments_lexer": "ipython3",
   "version": "3.12.3"
  }
 },
 "nbformat": 4,
 "nbformat_minor": 4
}
